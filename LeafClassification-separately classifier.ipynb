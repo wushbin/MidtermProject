{
 "cells": [
  {
   "cell_type": "markdown",
   "metadata": {},
   "source": [
    "Leaf Classification"
   ]
  },
  {
   "cell_type": "code",
   "execution_count": 1,
   "metadata": {
    "collapsed": false
   },
   "outputs": [],
   "source": [
    "import numpy as np\n",
    "import pandas as pd\n",
    "import seaborn as sns\n",
    "import matplotlib.pyplot as plt\n",
    "import matplotlib.cm as cm\n",
    "import matplotlib.gridspec as gridspec\n",
    "\n",
    "from sklearn.preprocessing import StandardScaler, LabelEncoder\n",
    "from sklearn.model_selection import KFold,GridSearchCV\n",
    "from sklearn.naive_bayes import GaussianNB\n",
    "from sklearn.ensemble import ExtraTreesClassifier\n",
    "from sklearn.ensemble import RandomForestClassifier\n",
    "from sklearn.discriminant_analysis import LinearDiscriminantAnalysis\n",
    "from sklearn.linear_model import LogisticRegression\n",
    "from sklearn.decomposition import PCA\n",
    "from sklearn.metrics import accuracy_score, log_loss\n",
    "from sklearn.feature_selection import RFE\n",
    "from sklearn.feature_selection import RFECV\n",
    "from sklearn.model_selection import StratifiedKFold\n",
    "from sklearn.svm import SVR\n",
    "from sklearn.svm import SVC\n",
    "from sklearn import neighbors\n",
    "from sklearn.neighbors import NearestNeighbors\n",
    "\n",
    "from scipy.stats.stats import pearsonr   \n",
    "\n",
    "train = pd.read_csv('./input/train.csv')\n",
    "test = pd.read_csv('./input/test.csv')"
   ]
  },
  {
   "cell_type": "markdown",
   "metadata": {},
   "source": [
    "**Data Preparation**"
   ]
  },
  {
   "cell_type": "code",
   "execution_count": 2,
   "metadata": {
    "collapsed": true
   },
   "outputs": [],
   "source": [
    "margin_cols = [col for col in train.columns if 'margin' in col]\n",
    "shape_cols = [col for col in train.columns if 'shape' in col] \n",
    "texture_cols = [col for col in train.columns if 'texture' in col] "
   ]
  },
  {
   "cell_type": "code",
   "execution_count": 3,
   "metadata": {
    "collapsed": false
   },
   "outputs": [],
   "source": [
    "label_encoder = LabelEncoder()\n",
    "classLabel = label_encoder.fit(train.species)\n",
    "labels = label_encoder.fit_transform(train.species)\n",
    "classes = list(classLabel.classes_)                    \n",
    "test_ids = test.id\n",
    "\n",
    "train_all = train.drop(['species', 'id'], axis=1)\n",
    "test = test.drop(['id'], axis=1)\n",
    "\n",
    "scaler = StandardScaler().fit(train_all)\n",
    "train_all = scaler.transform(train_all)"
   ]
  },
  {
   "cell_type": "code",
   "execution_count": null,
   "metadata": {
    "collapsed": false
   },
   "outputs": [],
   "source": [
    "type(train_all)"
   ]
  },
  {
   "cell_type": "code",
   "execution_count": 4,
   "metadata": {
    "collapsed": false
   },
   "outputs": [],
   "source": [
    "train_margin = train[margin_cols]\n",
    "train_shape = train[shape_cols]\n",
    "train_texture = train[texture_cols]\n",
    "train_margin = train_margin.as_matrix()\n",
    "train_shape = train_shape.as_matrix()\n",
    "train_texture = train_texture.as_matrix()"
   ]
  },
  {
   "cell_type": "code",
   "execution_count": 5,
   "metadata": {
    "collapsed": true
   },
   "outputs": [],
   "source": [
    "#K-fold with 5  \n",
    "kfold = KFold(n_splits=5, shuffle=True, random_state=4)"
   ]
  },
  {
   "cell_type": "code",
   "execution_count": 6,
   "metadata": {
    "collapsed": false
   },
   "outputs": [
    {
     "data": {
      "text/plain": [
       "0.48686868686868684"
      ]
     },
     "execution_count": 6,
     "metadata": {},
     "output_type": "execute_result"
    }
   ],
   "source": [
    "# naive bayse with K-fold cross validation\n",
    "nb = GaussianNB()\n",
    "#standardization\n",
    "#scaler = StandardScaler().fit(train)\n",
    "#train = scaler.transform(train)\n",
    "naiveBayseScore = list()\n",
    "for train_index, test_index in kfold.split(train_all):\n",
    "    X_train, X_test = train_all[train_index], train_all[test_index]\n",
    "    y_train, y_test = labels[train_index], labels[test_index]\n",
    "    naiveBayse = nb.fit(X_train,y_train)\n",
    "    naiveBayseScore.append(naiveBayse.score(X_test, y_test))\n",
    "nb_validation = naiveBayseScore\n",
    "\n",
    "np.mean(nb_validation)"
   ]
  },
  {
   "cell_type": "code",
   "execution_count": 7,
   "metadata": {
    "collapsed": false
   },
   "outputs": [
    {
     "name": "stderr",
     "output_type": "stream",
     "text": [
      "/anaconda/lib/python3.6/site-packages/sklearn/discriminant_analysis.py:455: UserWarning: The priors do not sum to 1. Renormalizing\n",
      "  UserWarning)\n"
     ]
    },
    {
     "data": {
      "text/plain": [
       "0.98181818181818181"
      ]
     },
     "execution_count": 7,
     "metadata": {},
     "output_type": "execute_result"
    }
   ],
   "source": [
    "#linear DiscriminatAnalysis\n",
    "ld = LinearDiscriminantAnalysis(solver = 'lsqr', shrinkage='auto')\n",
    "linearDiscScore = list()\n",
    "\n",
    "for train_index, test_index in kfold.split(train_all):\n",
    "    X_train, X_test = train_all[train_index], train_all[test_index]\n",
    "    y_train, y_test = labels[train_index], labels[test_index]\n",
    "    linearDisc = ld.fit(X_train,y_train)\n",
    "    linearDiscScore.append(linearDisc.score(X_test, y_test))\n",
    "ld_validation = linearDiscScore\n",
    "\n",
    "np.mean(ld_validation)"
   ]
  },
  {
   "cell_type": "code",
   "execution_count": 8,
   "metadata": {
    "collapsed": false
   },
   "outputs": [
    {
     "data": {
      "text/plain": [
       "0.96262626262626261"
      ]
     },
     "execution_count": 8,
     "metadata": {},
     "output_type": "execute_result"
    }
   ],
   "source": [
    "#KNearestNeighbours\n",
    "knn = neighbors.KNeighborsClassifier(algorithm='ball_tree',weights= 'distance')\n",
    "kNNScore = list()\n",
    "for train_index, test_index in kfold.split(train_all):\n",
    "    X_train, X_test = train_all[train_index], train_all[test_index]\n",
    "    y_train, y_test = labels[train_index], labels[test_index]\n",
    "    KnnCl = knn.fit(X_train,y_train)\n",
    "    kNNScore.append(KnnCl.score(X_test, y_test))\n",
    "knn_validation = kNNScore\n",
    "\n",
    "np.mean(knn_validation)"
   ]
  },
  {
   "cell_type": "code",
   "execution_count": 9,
   "metadata": {
    "collapsed": false
   },
   "outputs": [
    {
     "data": {
      "text/plain": [
       "0.98181818181818203"
      ]
     },
     "execution_count": 9,
     "metadata": {},
     "output_type": "execute_result"
    }
   ],
   "source": [
    "#Logistic Regression\n",
    "\n",
    "logreg = LogisticRegression(solver='lbfgs',multi_class='multinomial')\n",
    "logregScore = list()\n",
    "\n",
    "for train_index, test_index in kfold.split(train_all):\n",
    "    X_train, X_test = train_all[train_index], train_all[test_index]\n",
    "    y_train, y_test = labels[train_index], labels[test_index]\n",
    "    LogReg = logreg.fit(X_train,y_train)\n",
    "    logregScore.append(LogReg.score(X_test, y_test))\n",
    "ls_validation = logregScore\n",
    "\n",
    "np.mean(ls_validation)"
   ]
  },
  {
   "cell_type": "code",
   "execution_count": 12,
   "metadata": {
    "collapsed": false
   },
   "outputs": [
    {
     "data": {
      "text/plain": [
       "0.98383838383838373"
      ]
     },
     "execution_count": 12,
     "metadata": {},
     "output_type": "execute_result"
    }
   ],
   "source": [
    "#Logistic Regression and a GridSearch\n",
    "\n",
    "params = {'C':[100, 1000], 'tol': [0.001, 0.0001]}\n",
    "lr = LogisticRegression(solver='lbfgs', multi_class='multinomial')\n",
    "gs = GridSearchCV(lr, params, scoring=None, refit='True', cv=2) \n",
    "gridSearchScore = list()\n",
    "\n",
    "for train_index, test_index in kfold.split(train_all):\n",
    "    X_train, X_test = train_all[train_index], train_all[test_index]\n",
    "    y_train, y_test = labels[train_index], labels[test_index]\n",
    "    GridSearch = gs.fit(X_train,y_train)\n",
    "    gridSearchScore.append(GridSearch.score(X_test, y_test))\n",
    "gs_validation = gridSearchScore\n",
    "\n",
    "np.mean(gs_validation)\n"
   ]
  },
  {
   "cell_type": "code",
   "execution_count": 14,
   "metadata": {
    "collapsed": false
   },
   "outputs": [
    {
     "data": {
      "text/plain": [
       "0.97777777777777786"
      ]
     },
     "execution_count": 14,
     "metadata": {},
     "output_type": "execute_result"
    }
   ],
   "source": [
    "#random forest\n",
    "rf = RandomForestClassifier(n_estimators=500)\n",
    "#random forest\n",
    "randomForestScore = list()\n",
    "\n",
    "for train_index, test_index in kfold.split(train_all):\n",
    "    X_train, X_test = train_all[train_index], train_all[test_index]\n",
    "    y_train, y_test = labels[train_index], labels[test_index]\n",
    "    #fit\n",
    "    randomForest = rf.fit(X_train,y_train)\n",
    "    randomForestScore.append(randomForest.score(X_test, y_test))\n",
    "\n",
    "rf_validation = randomForestScore\n",
    "\n",
    "np.mean(rf_validation)"
   ]
  },
  {
   "cell_type": "code",
   "execution_count": 13,
   "metadata": {
    "collapsed": false
   },
   "outputs": [
    {
     "data": {
      "text/plain": [
       "0.97878787878787887"
      ]
     },
     "execution_count": 13,
     "metadata": {},
     "output_type": "execute_result"
    }
   ],
   "source": [
    "#random forest\n",
    "etcl = ExtraTreesClassifier(n_estimators=500, random_state=0)\n",
    "ExtraTreeScore = list()\n",
    "\n",
    "for train_index, test_index in kfold.split(train_all):\n",
    "    X_train, X_test = train_all[train_index], train_all[test_index]\n",
    "    y_train, y_test = labels[train_index], labels[test_index]\n",
    "    #fit\n",
    "    ExtraTree = etcl.fit(X_train,y_train)\n",
    "    ExtraTreeScore.append(ExtraTree.score(X_test, y_test))\n",
    "\n",
    "etcl_validation = ExtraTreeScore\n",
    "\n",
    "np.mean(etcl_validation)"
   ]
  },
  {
   "cell_type": "code",
   "execution_count": 15,
   "metadata": {
    "collapsed": false
   },
   "outputs": [
    {
     "data": {
      "image/png": "[encoded data removed]",
      "text/plain": [
       "<matplotlib.figure.Figure at 0x1135feef0>"
      ]
     },
     "metadata": {},
     "output_type": "display_data"
    }
   ],
   "source": [
    "importances = rf.feature_importances_\n",
    "indices = np.argsort(importances)[::-1]\n",
    "imp_std = np.std([est.feature_importances_ for est in rf.estimators_], axis=0)\n",
    "fig = plt.figure(figsize=(12, 4))\n",
    "\n",
    "gs1 = gridspec.GridSpec(1, 2,height_ratios=[1])\n",
    "\n",
    "ax1, ax2 = fig.add_subplot(gs1[0]), fig.add_subplot(gs1[1])\n",
    "\n",
    "ax1.margins(0.05), ax2.margins(0.05) \n",
    "\n",
    "ax1.bar(range(10), importances[indices][:10], \\\n",
    "       color=\"#6480e5\", yerr=imp_std[indices][:10], ecolor='#31427e', align=\"center\")\n",
    "\n",
    "ax2.bar(range(10), importances[indices][-10:], \\\n",
    "       color=\"#e56464\", yerr=imp_std[indices][-10:], ecolor='#7e3131', align=\"center\")\n",
    "\n",
    "ax1.set_xticks(range(10)), ax2.set_xticks(range(10))\n",
    "\n",
    "ax1.set_xticklabels(indices[:10]), ax2.set_xticklabels(indices[-10:])\n",
    "\n",
    "ax1.set_xlim([-1, 10]), ax2.set_xlim([-1, 10])\n",
    "ax1.set_ylim([0, 0.035]), ax2.set_ylim([0, 0.035])\n",
    "\n",
    "ax1.set_xlabel('Feature numbers'), ax2.set_xlabel('Feature numbers')\n",
    "ax1.set_ylabel('Random Forest Normalized Importance') \n",
    "ax2.set_ylabel('Random Forest Normalized Importance')\n",
    "\n",
    "ax1.set_title('First 10 Important Features'), ax2.set_title('Last 10 Important Features')\n",
    "gs1.tight_layout(fig)\n",
    "plt.show()"
   ]
  },
  {
   "cell_type": "code",
   "execution_count": null,
   "metadata": {
    "collapsed": true
   },
   "outputs": [],
   "source": [
    "#correlation analysis (TBD)\n"
   ]
  },
  {
   "cell_type": "markdown",
   "metadata": {},
   "source": [
    "**Feature Selection**"
   ]
  },
  {
   "cell_type": "code",
   "execution_count": 16,
   "metadata": {
    "collapsed": false
   },
   "outputs": [
    {
     "name": "stdout",
     "output_type": "stream",
     "text": [
      "Optimal number of features : 176\n"
     ]
    },
    {
     "data": {
      "image/png": "[encoded data removed]",
      "text/plain": [
       "<matplotlib.figure.Figure at 0x11818e7b8>"
      ]
     },
     "metadata": {},
     "output_type": "display_data"
    }
   ],
   "source": [
    "#feature selection exploration\n",
    "svc = SVC(kernel=\"linear\")\n",
    "ld = LinearDiscriminantAnalysis();\n",
    "\n",
    "featureSelector = RFECV(estimator=svc, step = 1, cv=2, scoring='accuracy')\n",
    "\n",
    "rfecv = featureSelector.fit(train_all, labels)\n",
    "train_rfecv = rfecv.transform(train_all) \n",
    "\n",
    "print(\"Optimal number of features : %d\" % featureSelector.n_features_)\n",
    "\n",
    "plt.figure()\n",
    "plt.xlabel(\"Number of features selected\")\n",
    "plt.ylabel(\"Cross validation score (nb of correct classifications)\")\n",
    "plt.plot(range(1, len(featureSelector.grid_scores_) + 1), featureSelector.grid_scores_)\n",
    "plt.show()"
   ]
  },
  {
   "cell_type": "code",
   "execution_count": null,
   "metadata": {
    "collapsed": false
   },
   "outputs": [],
   "source": [
    "#selection optimal n number of feature \n",
    "svc = SVC(kernel=\"linear\")\n",
    "rfe = RFE(estimator=svc, n_features_to_select=25, step=1)\n",
    "train_rfe = rfe.fit_transform(train_all, labels)\n",
    "\n",
    "train_rfe[1]"
   ]
  },
  {
   "cell_type": "code",
   "execution_count": null,
   "metadata": {
    "collapsed": false
   },
   "outputs": [],
   "source": [
    "#after RFE\n",
    "naiveBayseScore = list()\n",
    "for train_index, test_index in kfold.split(train_rfecv):\n",
    "    X_train, X_test = train_rfecv[train_index], train_rfecv[test_index]\n",
    "    y_train, y_test = labels[train_index], labels[test_index]\n",
    "    naiveBayse = nb.fit(X_train,y_train)\n",
    "    naiveBayseScore.append(naiveBayse.score(X_test, y_test))\n",
    "nb_validation = naiveBayseScore\n",
    "\n",
    "np.mean(nb_validation)"
   ]
  },
  {
   "cell_type": "code",
   "execution_count": null,
   "metadata": {
    "collapsed": false
   },
   "outputs": [],
   "source": [
    "#After RFE\n",
    "#Logistic Regression and a GridSearch\n",
    "params = {'C':[100, 1000], 'tol': [0.001, 0.0001]}\n",
    "lr_rfe = LogisticRegression(solver='lbfgs', multi_class='multinomial')\n",
    "gs_rfe = GridSearchCV(lr_rfe, params, scoring=None, refit='True', cv=3) \n",
    "gridSearchScore = list()\n",
    "\n",
    "for train_index, test_index in kfold.split(train_rfecv):\n",
    "    X_train, X_test = train_rfecv[train_index], train_rfecv[test_index]\n",
    "    y_train, y_test = labels[train_index], labels[test_index]\n",
    "    GridSearch = gs_rfe.fit(X_train,y_train)\n",
    "    gridSearchScore.append(GridSearch.score(X_test, y_test))\n",
    "gs_validation = gridSearchScore\n",
    "\n",
    "np.mean(gs_validation)"
   ]
  },
  {
   "cell_type": "markdown",
   "metadata": {},
   "source": [
    "**PCA**"
   ]
  },
  {
   "cell_type": "code",
   "execution_count": null,
   "metadata": {
    "collapsed": true
   },
   "outputs": [],
   "source": [
    "#Priciple Component Analysis\n",
    "pca = PCA(n_components = 174, svd_solver = 'full',iterated_power='auto')\n",
    "pca_fit = pca.fit(train_all)\n",
    "train_pca=pca_fit.transform(train_all)"
   ]
  },
  {
   "cell_type": "code",
   "execution_count": null,
   "metadata": {
    "collapsed": false
   },
   "outputs": [],
   "source": [
    "#After PCA\n",
    "nb_pca = GaussianNB()\n",
    "naiveBayseScore = list()\n",
    "for train_index, test_index in kfold.split(train_pca):\n",
    "    X_train, X_test = train_pca[train_index], train_pca[test_index]\n",
    "    y_train, y_test = labels[train_index], labels[test_index]\n",
    "    naiveBayse = nb_pca.fit(X_train,y_train)\n",
    "    naiveBayseScore.append(naiveBayse.score(X_test, y_test))\n",
    "    \n",
    "nb_validation = naiveBayseScore\n",
    "np.mean(nb_validation)"
   ]
  },
  {
   "cell_type": "code",
   "execution_count": null,
   "metadata": {
    "collapsed": false
   },
   "outputs": [],
   "source": [
    "#After PCA\n",
    "#linear DiscriminatAnalysis\n",
    "#shrinkage='auto',\n",
    "ld_pca = LinearDiscriminantAnalysis(solver='lsqr')\n",
    "linearDiscScore = list()\n",
    "\n",
    "for train_index, test_index in kfold.split(train_pca):\n",
    "    X_train, X_test = train_pca[train_index], train_pca[test_index]\n",
    "    y_train, y_test = labels[train_index], labels[test_index]\n",
    "    linearDisc = ld_pca.fit(X_train,y_train)\n",
    "    linearDiscScore.append(linearDisc.score(X_test, y_test))\n",
    "ld_validation = linearDiscScore\n",
    "\n",
    "np.mean(ld_validation)"
   ]
  },
  {
   "cell_type": "code",
   "execution_count": null,
   "metadata": {
    "collapsed": false
   },
   "outputs": [],
   "source": [
    "#After PCA\n",
    "#KNearestNeighbours\n",
    "knn_pca = neighbors.KNeighborsClassifier(algorithm='ball_tree',weights= 'distance')\n",
    "kNNScore = list()\n",
    "for train_index, test_index in kfold.split(train_pca):\n",
    "    X_train, X_test = train_pca[train_index], train_pca[test_index]\n",
    "    y_train, y_test = labels[train_index], labels[test_index]\n",
    "    KnnCl = knn_pca.fit(X_train,y_train)\n",
    "    kNNScore.append(KnnCl.score(X_test, y_test))    \n",
    "knn_validation = kNNScore\n",
    "np.mean(knn_validation)"
   ]
  },
  {
   "cell_type": "code",
   "execution_count": null,
   "metadata": {
    "collapsed": false
   },
   "outputs": [],
   "source": [
    "#After PCA\n",
    "#Logistic Regression and a GridSearch\n",
    "params = {'C':[100, 1000], 'tol': [0.001, 0.0001]}\n",
    "lr_pca = LogisticRegression(solver='lbfgs', multi_class='multinomial')\n",
    "gs_pca = GridSearchCV(lr_pca, params, scoring=None, refit='True', cv=3) \n",
    "gridSearchScore = list()\n",
    "\n",
    "for train_index, test_index in kfold.split(train_pca):\n",
    "    X_train, X_test = train_pca[train_index], train_pca[test_index]\n",
    "    y_train, y_test = labels[train_index], labels[test_index]\n",
    "    GridSearch = gs_pca.fit(X_train,y_train)\n",
    "    gridSearchScore.append(GridSearch.score(X_test, y_test))\n",
    "gs_validation = gridSearchScore\n",
    "\n",
    "np.mean(gs_validation)"
   ]
  },
  {
   "cell_type": "code",
   "execution_count": null,
   "metadata": {
    "collapsed": false
   },
   "outputs": [],
   "source": [
    "#After PCA\n",
    "#random forest\n",
    "etcl_pca = ExtraTreesClassifier(n_estimators=500, random_state=0)\n",
    "ExtraTreeScore = list()\n",
    "\n",
    "for train_index, test_index in kfold.split(train_pca):\n",
    "    X_train, X_test = train_pca[train_index], train_pca[test_index]\n",
    "    y_train, y_test = labels[train_index], labels[test_index]\n",
    "    #fit\n",
    "    ExtraTree = etcl_pca.fit(X_train,y_train)\n",
    "    ExtraTreeScore.append(ExtraTree.score(X_test, y_test))\n",
    "\n",
    "etcl_validation = ExtraTreeScore\n",
    "\n",
    "np.mean(etcl_validation)"
   ]
  },
  {
   "cell_type": "code",
   "execution_count": null,
   "metadata": {
    "collapsed": false
   },
   "outputs": [],
   "source": [
    "#voting assemble the classifiers\n",
    "from sklearn.ensemble import VotingClassifier\n",
    "#('nb_pca',nb_pca), ('ld_pca', ld_pca), ('knn_pca',knn_pca),\n",
    "eclf1 = VotingClassifier(estimators=[('ld_pca',ld_pca), ('gs_pca', gs_pca)],\n",
    "                         voting='soft')\n",
    "VotingClassifierScore = list()\n",
    "for train_index, test_index in kfold.split(train_pca):\n",
    "    X_train, X_test = train_pca[train_index], train_pca[test_index]\n",
    "    y_train, y_test = labels[train_index], labels[test_index]\n",
    "    #fit\n",
    "    VotingClass = eclf1.fit(X_train,y_train)\n",
    "    VotingClassifierScore.append(VotingClass.score(X_test, y_test))\n",
    "\n",
    "np.mean(VotingClassifierScore)"
   ]
  },
  {
   "cell_type": "markdown",
   "metadata": {},
   "source": [
    "**Separately Train the Classifier Base on different features**"
   ]
  },
  {
   "cell_type": "code",
   "execution_count": null,
   "metadata": {
    "collapsed": true
   },
   "outputs": [],
   "source": [
    "#Priciple Component Analysis\n",
    "pca = PCA(n_components = 'mle', svd_solver = 'full',iterated_power='auto')\n",
    "#pca in margin\n",
    "pca_margin_fit = pca.fit(train_margin)\n",
    "train_margin_pca=pca_margin_fit.transform(train_margin)\n",
    "#pca in shape\n",
    "pca_shape_fit = pca.fit(train_shape)\n",
    "train_shape_pca = pca_shape_fit.transform(train_shape)\n",
    "#pca in texture\n",
    "pca_texture_fit = pca.fit(train_texture)\n",
    "train_texture_pca = pca_shape_fit.transform(train_texture)\n"
   ]
  },
  {
   "cell_type": "code",
   "execution_count": null,
   "metadata": {
    "collapsed": false
   },
   "outputs": [],
   "source": [
    "#feature selection exploration\n",
    "svc = SVC(kernel=\"linear\")\n",
    "ld = LinearDiscriminantAnalysis();\n",
    "\n",
    "featureSelector = RFECV(estimator=svc, step = 1, cv=2, scoring='accuracy')\n",
    "\n",
    "rfecv = featureSelector.fit(train_margin, labels)\n",
    "train_margin_rfecv = rfecv.transform(train_margin) \n",
    "\n",
    "print(\"Optimal number of features : %d\" % featureSelector.n_features_)\n",
    "\n",
    "plt.figure()\n",
    "plt.xlabel(\"Number of features selected\")\n",
    "plt.ylabel(\"Cross validation score (nb of correct classifications)\")\n",
    "plt.plot(range(1, len(featureSelector.grid_scores_) + 1), featureSelector.grid_scores_)\n",
    "plt.show()"
   ]
  },
  {
   "cell_type": "code",
   "execution_count": null,
   "metadata": {
    "collapsed": false
   },
   "outputs": [],
   "source": [
    "#feature selection exploration\n",
    "svc = SVC(kernel=\"linear\")\n",
    "ld = LinearDiscriminantAnalysis();\n",
    "\n",
    "featureSelector = RFECV(estimator=svc, step = 1, cv=2, scoring='accuracy')\n",
    "\n",
    "rfecv = featureSelector.fit(train_shape, labels)\n",
    "train_shape_rfecv = rfecv.transform(train_shape)\n",
    "\n",
    "print(\"Optimal number of features : %d\" % featureSelector.n_features_)\n",
    "\n",
    "plt.figure()\n",
    "plt.xlabel(\"Number of features selected\")\n",
    "plt.ylabel(\"Cross validation score (nb of correct classifications)\")\n",
    "plt.plot(range(1, len(featureSelector.grid_scores_) + 1), featureSelector.grid_scores_)\n",
    "plt.show()"
   ]
  },
  {
   "cell_type": "code",
   "execution_count": null,
   "metadata": {
    "collapsed": false
   },
   "outputs": [],
   "source": [
    "#feature selection exploration\n",
    "svc = SVC(kernel=\"linear\")\n",
    "ld = LinearDiscriminantAnalysis();\n",
    "\n",
    "featureSelector = RFECV(estimator=svc, step = 1, cv=2, scoring='accuracy')\n",
    "\n",
    "rfecv = featureSelector.fit(train_texture, labels)\n",
    "train_texture_rfecv = rfecv.transform(train_texture) \n",
    "\n",
    "print(\"Optimal number of features : %d\" % featureSelector.n_features_)\n",
    "\n",
    "plt.figure()\n",
    "plt.xlabel(\"Number of features selected\")\n",
    "plt.ylabel(\"Cross validation score (nb of correct classifications)\")\n",
    "plt.plot(range(1, len(featureSelector.grid_scores_) + 1), featureSelector.grid_scores_)\n",
    "plt.show()"
   ]
  },
  {
   "cell_type": "code",
   "execution_count": null,
   "metadata": {
    "collapsed": true
   },
   "outputs": [],
   "source": [
    "train_two = np.concatenate((train_margin_pca, train_texture_pca),axis = 1)"
   ]
  },
  {
   "cell_type": "code",
   "execution_count": null,
   "metadata": {
    "collapsed": false
   },
   "outputs": [],
   "source": [
    "params = {'C':[100, 1000], 'tol': [0.001, 0.0001]}\n",
    "lr_pca = LogisticRegression(solver='lbfgs', multi_class='multinomial')\n",
    "gs_pca = GridSearchCV(lr_pca, params, scoring=None, refit='True', cv=3) \n",
    "gridSearchScore = list()\n",
    "\n",
    "for train_index, test_index in kfold.split(train_two):\n",
    "    X_train, X_test = train_two[train_index], train_two[test_index]\n",
    "    y_train, y_test = labels[train_index], labels[test_index]\n",
    "    GridSearch = gs_pca.fit(X_train,y_train)\n",
    "    gridSearchScore.append(GridSearch.score(X_test, y_test))\n",
    "gs_validation = gridSearchScore\n",
    "\n",
    "np.mean(gs_validation)"
   ]
  },
  {
   "cell_type": "code",
   "execution_count": null,
   "metadata": {
    "collapsed": false
   },
   "outputs": [],
   "source": [
    "#After PCA\n",
    "#KNearestNeighbours\n",
    "knn_pca = neighbors.KNeighborsClassifier(algorithm='ball_tree',weights= 'distance')\n",
    "kNNScore = list()\n",
    "for train_index, test_index in kfold.split(train_texture_pca):\n",
    "    X_train, X_test = train_texture_pca[train_index], train_texture_pca[test_index]\n",
    "    y_train, y_test = labels[train_index], labels[test_index]\n",
    "    KnnCl = knn_pca.fit(X_train,y_train)\n",
    "    kNNScore.append(KnnCl.score(X_test, y_test))    \n",
    "knn_validation = kNNScore\n",
    "np.mean(knn_validation)"
   ]
  },
  {
   "cell_type": "markdown",
   "metadata": {},
   "source": [
    "**Test the data in test set**"
   ]
  },
  {
   "cell_type": "code",
   "execution_count": null,
   "metadata": {
    "collapsed": true
   },
   "outputs": [],
   "source": [
    "test = scaler.transform(test)\n",
    "test_rfe= rfecv.transform(test)\n",
    "test_predictions = eclf1.predict_proba(test_pca)\n",
    "\n",
    "log_cols=[\"Classifier\", \"Accuracy\", \"Log Loss\"]\n",
    "log = pd.DataFrame(columns=log_cols)\n",
    "\n",
    "test_predictions = eclf1.predict(test)\n",
    "\n",
    "acc = accuracy_score(, test_predictions)\n",
    "\n",
    "acc"
   ]
  },
  {
   "cell_type": "code",
   "execution_count": null,
   "metadata": {
    "collapsed": false
   },
   "outputs": [],
   "source": [
    "len(train_rfecv[0])\n",
    "len(test[0])"
   ]
  },
  {
   "cell_type": "code",
   "execution_count": null,
   "metadata": {
    "collapsed": false
   },
   "outputs": [],
   "source": [
    "test = scaler.transform(test)\n",
    "test_rfe = rfecv.transform(test)\n",
    "test_predictions = gs_rfe.predict_proba(test_rfe)\n",
    "\n",
    "submission = pd.DataFrame(test_predictions, columns=classes)\n",
    "submission.insert(0, 'id', test_ids)\n",
    "submission.reset_index()\n",
    "submission.set_index('id', inplace=True)\n",
    "fp = open('submit.csv', 'w')\n",
    "fp.write(submission.to_csv())\n",
    "print('Finished writing submission')\n",
    "submission.tail()"
   ]
  }
 ],
 "metadata": {
  "kernelspec": {
   "display_name": "Python 3",
   "language": "python",
   "name": "python3"
  },
  "language_info": {
   "codemirror_mode": {
    "name": "ipython",
    "version": 3
   },
   "file_extension": ".py",
   "mimetype": "text/x-python",
   "name": "python",
   "nbconvert_exporter": "python",
   "pygments_lexer": "ipython3",
   "version": "3.6.0"
  }
 },
 "nbformat": 4,
 "nbformat_minor": 2
}
